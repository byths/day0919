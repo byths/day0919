{
 "cells": [
  {
   "cell_type": "markdown",
   "metadata": {},
   "source": [
    "# Numpy\n",
    "## 넘파이 ndarray 개요\n",
    "## ndarray의 데이터타입\n",
    "## ndarray를 편리하게 생성하기-arange, zeros, ones\n",
    "## ndarray의 차원과 크기를 변경하는 reshape()\n",
    "## 넘파이의 ndarray 의 데이터 세트 선택하기-인덱싱(Indexing)\n",
    "## 행렬의 정렬-sort()와 argsort()\n",
    "## 선형대수 연산 - 행렬 내적과 전치 행렬 구하기"
   ]
  },
  {
   "cell_type": "markdown",
   "metadata": {},
   "source": [
    "## 1. 넘파이 ndarray 개요\n",
    "### ndarray: 넘파이의 기반 데이터 타입, 다차원 배열을 쉽게 생성하고 다양한 연산을 수행할 수 있음."
   ]
  },
  {
   "cell_type": "code",
   "execution_count": 3,
   "metadata": {
    "scrolled": true
   },
   "outputs": [
    {
     "name": "stdout",
     "output_type": "stream",
     "text": [
      "array1 type: <class 'numpy.ndarray'>\n",
      "array1 array 형태: (3,)\n",
      "array2 type: <class 'numpy.ndarray'>\n",
      "array2 array 형태: (2, 3)\n",
      "array3 type: <class 'numpy.ndarray'>\n",
      "array3 array 형태: (1, 3)\n",
      "\n",
      "\n",
      "array1: 1차원, array2: 2차원, array3:  2차원\n"
     ]
    }
   ],
   "source": [
    "#넘파이 모듈 임포트, 이때 약어로 모듈을 표현해 주는 것이 관례\n",
    "import numpy as np\n",
    "\n",
    "array1=np.array([1,2,3])\n",
    "print('array1 type:',type(array1))\n",
    "print('array1 array 형태:',array1.shape)\n",
    "#이때, array()함수는 ndarray로 변환하는 기능 수행\n",
    "#ndarray 배열의 shape변수는 배열의 차원과 크기를 튜플 형태로 나타내줌\n",
    "\n",
    "array2=np.array([[1,2,3],\n",
    "                 [2,3,4]])\n",
    "print('array2 type:',type(array2))\n",
    "print('array2 array 형태:',array2.shape)\n",
    "\n",
    "array3=np.array([[1,2,3]])\n",
    "print('array3 type:',type(array3))\n",
    "print('array3 array 형태:',array3.shape)\n",
    "\n",
    "print('\\n')\n",
    "print('array1: {:0}차원, array2: {:1}차원, array3: {:2}차원'.format(array1.ndim,array2.ndim,array3.ndim))"
   ]
  },
  {
   "cell_type": "markdown",
   "metadata": {},
   "source": [
    "* array1은 1차원으로 3개의 데이터를 갖고 있고, array3은 2차원으로 3개의 데이터를 갖고 있음. 이는 array()함수의 인자로 파이썬의 리스트 객체가 주로 사용되는데, 리스트 []는 1차원이고 리스트의 리스트[[]]는 2차원이기때문이다."
   ]
  },
  {
   "cell_type": "markdown",
   "metadata": {},
   "source": [
    "## 2. ndarray의 데이터 타입\n",
    "### 숫자 값, 문자열 값, 불 값 등 모두 가능\n",
    "### 숫자형 : int형(8bit, 16bit, 32bit), unsigned int형(8bit, 16bit, 32bit), float형(16bit, 32bit, 64bit, 128bit), complex 타입제공\n",
    "### ndarray 내의 데이터 타입은 같은 데이터 타입만 가능"
   ]
  },
  {
   "cell_type": "code",
   "execution_count": 4,
   "metadata": {},
   "outputs": [
    {
     "name": "stdout",
     "output_type": "stream",
     "text": [
      "<class 'list'>\n",
      "<class 'numpy.ndarray'>\n",
      "[1 2 3] int32\n"
     ]
    }
   ],
   "source": [
    "list1=[1,2,3]\n",
    "print(type(list1))\n",
    "array1=np.array(list1)\n",
    "print(type(array1))\n",
    "#ndarray내의 데이터 타입은 dtype 속성으로 확인\n",
    "print(array1, array1.dtype)"
   ]
  },
  {
   "cell_type": "markdown",
   "metadata": {},
   "source": [
    "### 리스트는 서로 다른 데이터 타입을 가질 수 있음. \n",
    "### 만약 다른 데이터 유형이 섞여 있는 리스트를 ndarray로 변경하면 데이터 크기가 더 큰 데이터 타입으로 형 변환을 일괄 적용함."
   ]
  },
  {
   "cell_type": "code",
   "execution_count": 5,
   "metadata": {},
   "outputs": [
    {
     "name": "stdout",
     "output_type": "stream",
     "text": [
      "['1' '2' 'test'] <U11\n",
      "[1. 2. 3.] float64\n"
     ]
    }
   ],
   "source": [
    "#int형과 string형이 섞여 있는 리스트\n",
    "list2=[1,2,'test']\n",
    "array2=np.array(list2)\n",
    "print(array2, array2.dtype)\n",
    "\n",
    "#int형과 float형이 섞여 있는 리스트\n",
    "list3=[1,2,3.0]\n",
    "array3=np.array(list3)\n",
    "print(array3, array3.dtype)"
   ]
  },
  {
   "cell_type": "markdown",
   "metadata": {},
   "source": [
    "* list2는 숫자형 값 1,2가 모두 문자열 값인 '1', '2'로 변환\n",
    "* list3는 int 1,2가 float64형 1.2.로 변환"
   ]
  },
  {
   "cell_type": "markdown",
   "metadata": {},
   "source": [
    "### ndarray 내 데이터값의 타입 변경 astype() 메서드를 이용해 가능-> 메모리 절약"
   ]
  },
  {
   "cell_type": "code",
   "execution_count": 6,
   "metadata": {},
   "outputs": [
    {
     "name": "stdout",
     "output_type": "stream",
     "text": [
      "[1. 2. 3.] float64\n"
     ]
    }
   ],
   "source": [
    "array_int=np.array([1,2,3])\n",
    "array_float=array_int.astype('float64')\n",
    "print(array_float, array_float.dtype)\n"
   ]
  },
  {
   "cell_type": "markdown",
   "metadata": {},
   "source": [
    "## 3. ndarray를 편리하게 생성하기-arange, zeros, ones\n",
    "### arange(): 0부터 함수 인자 값 -1까지의 값을 순차적으로 ndarray의 데이터값으로 변환해 줌\n",
    "### zeros(): 튜플 형태의 shape값(ex)(3,2) 을 입력하면 모든 값을 0으로 채운 해당 shape을 가진 ndarray 반환\n",
    "### ones(): 튜플 형태의 shape값(ex)(3,2) 을 입력하면 모든 값을 1로 채운 해당 shape을 가진 ndarray 반환"
   ]
  },
  {
   "cell_type": "code",
   "execution_count": 9,
   "metadata": {},
   "outputs": [
    {
     "name": "stdout",
     "output_type": "stream",
     "text": [
      "[4 5 6 7 8 9]\n",
      "int32 (6,)\n",
      "[[0 0]\n",
      " [0 0]\n",
      " [0 0]]\n",
      "int32 (3, 2)\n",
      "[[1. 1.]\n",
      " [1. 1.]\n",
      " [1. 1.]]\n",
      "float64 (3, 2)\n"
     ]
    }
   ],
   "source": [
    "#0부터 9까지의 연속 숫자 값으로 구성된 1차원 ndarray 만들기\n",
    "sequence_array=np.arange(4,10)\n",
    "print(sequence_array)\n",
    "print(sequence_array.dtype, sequence_array.shape)\n",
    "\n",
    "zero_array=np.zeros((3,2), dtype='int32')\n",
    "print(zero_array)\n",
    "print(zero_array.dtype, zero_array.shape)\n",
    "\n",
    "#함수 인자로 dtype을 정해주지 않는다면 디폴트로 float64형의 데이터로 채움\n",
    "one_array=np.ones((3,2))\n",
    "print(one_array)\n",
    "print(one_array.dtype, one_array.shape)"
   ]
  },
  {
   "cell_type": "markdown",
   "metadata": {},
   "source": [
    "## 4. ndarray의 차원과 크기를 변경하는 reshape()"
   ]
  },
  {
   "cell_type": "code",
   "execution_count": 10,
   "metadata": {},
   "outputs": [
    {
     "name": "stdout",
     "output_type": "stream",
     "text": [
      "array1:\n",
      " [0 1 2 3 4 5 6 7 8 9]\n",
      "array2:\n",
      " [[0 1 2 3 4]\n",
      " [5 6 7 8 9]]\n",
      "array3:\n",
      " [[0 1]\n",
      " [2 3]\n",
      " [4 5]\n",
      " [6 7]\n",
      " [8 9]]\n"
     ]
    },
    {
     "ename": "ValueError",
     "evalue": "cannot reshape array of size 10 into shape (4,3)",
     "output_type": "error",
     "traceback": [
      "\u001b[1;31m---------------------------------------------------------------------------\u001b[0m",
      "\u001b[1;31mValueError\u001b[0m                                Traceback (most recent call last)",
      "\u001b[1;32m<ipython-input-10-8d5348b8bd6d>\u001b[0m in \u001b[0;36m<module>\u001b[1;34m()\u001b[0m\n\u001b[0;32m      9\u001b[0m \u001b[1;33m\u001b[0m\u001b[0m\n\u001b[0;32m     10\u001b[0m \u001b[1;31m#지정된 사이즈 10과 맞지 않는 형태로는 변형할 수 없음\u001b[0m\u001b[1;33m\u001b[0m\u001b[1;33m\u001b[0m\u001b[0m\n\u001b[1;32m---> 11\u001b[1;33m \u001b[0marray1\u001b[0m\u001b[1;33m.\u001b[0m\u001b[0mreshape\u001b[0m\u001b[1;33m(\u001b[0m\u001b[1;36m4\u001b[0m\u001b[1;33m,\u001b[0m\u001b[1;36m3\u001b[0m\u001b[1;33m)\u001b[0m\u001b[1;33m\u001b[0m\u001b[0m\n\u001b[0m",
      "\u001b[1;31mValueError\u001b[0m: cannot reshape array of size 10 into shape (4,3)"
     ]
    }
   ],
   "source": [
    "array1=np.arange(10)\n",
    "print('array1:\\n', array1)\n",
    "\n",
    "array2=array1.reshape(2,5)\n",
    "print('array2:\\n', array2)\n",
    "\n",
    "array3=array1.reshape(5,2)\n",
    "print('array3:\\n', array3)\n",
    "\n",
    "#지정된 사이즈 10과 맞지 않는 형태로는 변형할 수 없음\n",
    "array1.reshape(4,3)"
   ]
  },
  {
   "cell_type": "code",
   "execution_count": 12,
   "metadata": {},
   "outputs": [
    {
     "name": "stdout",
     "output_type": "stream",
     "text": [
      "[0 1 2 3 4 5 6 7 8 9]\n",
      "array2 shape: (2, 5)\n",
      "array3 shape: (5, 2)\n"
     ]
    },
    {
     "ename": "ValueError",
     "evalue": "cannot reshape array of size 10 into shape (4)",
     "output_type": "error",
     "traceback": [
      "\u001b[1;31m---------------------------------------------------------------------------\u001b[0m",
      "\u001b[1;31mValueError\u001b[0m                                Traceback (most recent call last)",
      "\u001b[1;32m<ipython-input-12-28b2e4508ee3>\u001b[0m in \u001b[0;36m<module>\u001b[1;34m()\u001b[0m\n\u001b[0;32m      9\u001b[0m \u001b[1;33m\u001b[0m\u001b[0m\n\u001b[0;32m     10\u001b[0m \u001b[1;31m#호환될 수 없는 형태로는 변환할 수 없음\u001b[0m\u001b[1;33m\u001b[0m\u001b[1;33m\u001b[0m\u001b[0m\n\u001b[1;32m---> 11\u001b[1;33m \u001b[0marray4\u001b[0m\u001b[1;33m=\u001b[0m\u001b[0marray1\u001b[0m\u001b[1;33m.\u001b[0m\u001b[0mreshape\u001b[0m\u001b[1;33m(\u001b[0m\u001b[1;33m-\u001b[0m\u001b[1;36m1\u001b[0m\u001b[1;33m,\u001b[0m\u001b[1;36m4\u001b[0m\u001b[1;33m)\u001b[0m\u001b[1;33m\u001b[0m\u001b[0m\n\u001b[0m",
      "\u001b[1;31mValueError\u001b[0m: cannot reshape array of size 10 into shape (4)"
     ]
    }
   ],
   "source": [
    "#reshape()의 인자로 -1을 적용해주는 경우!!\n",
    "array1=np.arange(10)\n",
    "print(array1)\n",
    "#고정된 칼럼 또는 로우에 맞는 새로운 로우 또는 칼럼을 생성해 변환하라는 의미!!\n",
    "array2=array1.reshape(-1,5)\n",
    "print('array2 shape:', array2.shape)\n",
    "array3=array1.reshape(5,-1)\n",
    "print('array3 shape:', array3.shape)\n",
    "\n",
    "#호환될 수 없는 형태로는 변환할 수 없음\n",
    "array4=array1.reshape(-1,4)"
   ]
  },
  {
   "cell_type": "markdown",
   "metadata": {},
   "source": [
    "### -1인자는 reshape(-1,1)와 같은 형태로 자주 사용됨. \n",
    "### --> 원본이 어떤 형태라도 2차원이고, 여러 개의 로우를 가지되 반드시 1개의 컬럼을 가진 ndarray로 변환됨을 보장하므로"
   ]
  },
  {
   "cell_type": "markdown",
   "metadata": {},
   "source": [
    "## 5. 넘파이의 ndarray 의 데이터 세트 선택하기-인덱싱(Indexing)\n",
    "### (1) 특정한 데이터만 추출"
   ]
  },
  {
   "cell_type": "code",
   "execution_count": null,
   "metadata": {},
   "outputs": [],
   "source": [
    "#단일 값 추출\n",
    "#1부터 9까지의 1차원 ndarray 생성\n",
    "array1=np.arange(1,10)\n",
    "print('array1:', array1)\n",
    "#index는 0부터 시작하므로 array1[2]는 3번째 index 위치의 데이터값을 의미\n",
    "value=array1[2]\n",
    "print('value:', value)\n",
    "print(type(value))\n",
    "\n",
    "print('맨 뒤의 값:', array1[-1], '맨 뒤에서 두 번째 값:', array1[-2])\n",
    "\n",
    "#ndarray 내의 데이터값도 수정 가능\n",
    "array1[0]=9\n",
    "array1[8]=0\n",
    "print('array1:', array1)\n",
    "\n",
    "\n",
    "#다차원 ndarray에서 단일 값 추출\n",
    "array1d=np.arange(start=1,stop=10)\n",
    "array2d=array1d.reshape(3,3)\n",
    "print(array2d)\n",
    "\n",
    "print('(row=0, col=0) index 가리키는 값:', array2d[0,0])\n",
    "print('(row=0, col=1) index 가리키는 값:', array2d[0,1])\n",
    "print('(row=1, col=0) index 가리키는 값:', array2d[1,0])\n",
    "print('(row=2, col=2) index 가리키는 값:', array2d[2,2])\n"
   ]
  },
  {
   "cell_type": "markdown",
   "metadata": {},
   "source": [
    "### (2) 슬라이싱"
   ]
  },
  {
   "cell_type": "code",
   "execution_count": 13,
   "metadata": {},
   "outputs": [
    {
     "name": "stdout",
     "output_type": "stream",
     "text": [
      "[1 2 3]\n",
      "<class 'numpy.ndarray'>\n",
      "[1 2 3]\n",
      "[4 5 6 7 8 9]\n",
      "[1 2 3 4 5 6 7 8 9]\n"
     ]
    }
   ],
   "source": [
    "array1=np.arange(1,10)\n",
    "array3=array1[0:3]\n",
    "print(array3)\n",
    "print(type(array3))\n",
    "\n",
    "#:기호 앞에 시작 인덱스를 생략하면 자동으로 맨 처음 인덱스인 0으로 간주함\n",
    "array4=array1[:3]\n",
    "print(array4)\n",
    "\n",
    "#:기호 뒤에 종료 인덱스를 생략하면 자동으로 맨 마지막 인덱스로 간주함\n",
    "array5=array1[3:]\n",
    "print(array5)\n",
    "\n",
    "#:기호 앞/뒤에 시작/종료 인덱스를 생략하면 자동으로 맨 처음/맨 마지막 인덱스로 간주함\n",
    "array6=array1[:]\n",
    "print(array6)"
   ]
  },
  {
   "cell_type": "code",
   "execution_count": 14,
   "metadata": {},
   "outputs": [
    {
     "name": "stdout",
     "output_type": "stream",
     "text": [
      "array2d:\n",
      " [[1 2 3]\n",
      " [4 5 6]\n",
      " [7 8 9]]\n",
      "array2d[0:2,0:2] \n",
      " [[1 2]\n",
      " [4 5]]\n",
      "array2d[1:3,0:3] \n",
      " [[4 5 6]\n",
      " [7 8 9]]\n",
      "array2d[1:3,:] \n",
      " [[4 5 6]\n",
      " [7 8 9]]\n",
      "array2d[:,:] \n",
      " [[1 2 3]\n",
      " [4 5 6]\n",
      " [7 8 9]]\n",
      "array2d[:2,1:] \n",
      " [[2 3]\n",
      " [5 6]]\n",
      "array2d[:2,0] \n",
      " [1 4]\n"
     ]
    }
   ],
   "source": [
    "#2차원 ndarray에서 슬라이싱\n",
    "array1d=np.arange(1,10)\n",
    "array2d=array1d.reshape(3,3)\n",
    "print('array2d:\\n', array2d)\n",
    "\n",
    "print('array2d[0:2,0:2] \\n',array2d[0:2, 0:2])\n",
    "print('array2d[1:3,0:3] \\n',array2d[1:3, 0:3])\n",
    "print('array2d[1:3,:] \\n',array2d[1:3, :])\n",
    "print('array2d[:,:] \\n',array2d[:, :])\n",
    "print('array2d[:2,1:] \\n',array2d[:2, 1:])\n",
    "#축 한쪽에만 슬라이싱 적용, 다른 축에는 단일 값 인덱스 적용 가능\n",
    "print('array2d[:2,0] \\n',array2d[:2, 0])"
   ]
  },
  {
   "cell_type": "markdown",
   "metadata": {},
   "source": [
    "* 29페이지 그림 참고(참조)"
   ]
  },
  {
   "cell_type": "markdown",
   "metadata": {},
   "source": [
    "### (3) 팬시 인덱싱- 리스트나 ndarray로 인덱스 집합을 지정하면 해당 위치의 인덱스에 해당하는 ndarray를 반환하는 방식"
   ]
  },
  {
   "cell_type": "code",
   "execution_count": 15,
   "metadata": {},
   "outputs": [
    {
     "name": "stdout",
     "output_type": "stream",
     "text": [
      "array2d[[0,1],2]=> [3, 6]\n",
      "array2d[[0,1],0:2]=> [[1, 2], [4, 5]]\n",
      "array2d[[0,1]]=> [[1, 2, 3], [4, 5, 6]]\n"
     ]
    }
   ],
   "source": [
    "array1d=np.arange(1,10)\n",
    "array2d=array1d.reshape(3,3)\n",
    "\n",
    "#[0,1]인덱스 행의 2 인덱스 열 값들 반환->(0,2),(1,2) 조합\n",
    "array3=array2d[[0,1],2]\n",
    "print('array2d[[0,1],2]=>', array3.tolist())\n",
    "\n",
    "#이해잘 안감\n",
    "array4=array2d[[0,1],0:2]\n",
    "print('array2d[[0,1],0:2]=>', array4.tolist())\n",
    "\n",
    "array5=array2d[[0,1]]\n",
    "print('array2d[[0,1]]=>', array5.tolist())"
   ]
  },
  {
   "cell_type": "markdown",
   "metadata": {},
   "source": [
    "### (4) 불린 인덱싱- 조건 필터링과 검색을 동시에 할 수 있음, 자주 사용됨"
   ]
  },
  {
   "cell_type": "code",
   "execution_count": 16,
   "metadata": {},
   "outputs": [
    {
     "name": "stdout",
     "output_type": "stream",
     "text": [
      "array1d>5 불린 인덱싱 결과 값: [6 7 8 9]\n"
     ]
    }
   ],
   "source": [
    "array1d=np.arange(1,10)\n",
    "array3=array1d[array1d>5]\n",
    "print('array1d>5 불린 인덱싱 결과 값:', array3)"
   ]
  },
  {
   "cell_type": "code",
   "execution_count": 17,
   "metadata": {},
   "outputs": [
    {
     "data": {
      "text/plain": [
       "array([False, False, False, False, False,  True,  True,  True,  True])"
      ]
     },
     "execution_count": 17,
     "metadata": {},
     "output_type": "execute_result"
    }
   ],
   "source": [
    "array1d>5"
   ]
  },
  {
   "cell_type": "markdown",
   "metadata": {},
   "source": [
    "* 이때 false인 인덱스 0~4는 무시하고 인덱스 [5,6,7,8]이 만들어지고 이 위치 인덱스에 해당하는 데이터 세트를 반환"
   ]
  },
  {
   "cell_type": "code",
   "execution_count": 18,
   "metadata": {},
   "outputs": [
    {
     "name": "stdout",
     "output_type": "stream",
     "text": [
      "불린 인덱스로 필터링 결과: [6 7 8 9]\n",
      "일반 인덱스로 필터링 결과: [6 7 8 9]\n"
     ]
    }
   ],
   "source": [
    "boolean_indexes=np.array([False, False, False, False, False,  True,  True,  True,  True])\n",
    "array3=array1d[boolean_indexes]\n",
    "print('불린 인덱스로 필터링 결과:', array3)\n",
    "\n",
    "#위의 불린 ndarray와 동일함\n",
    "indexes=np.array([5,6,7,8])\n",
    "array4=array1d[indexes]\n",
    "print('일반 인덱스로 필터링 결과:', array4)"
   ]
  },
  {
   "cell_type": "markdown",
   "metadata": {},
   "source": [
    "불린 인덱싱이 동작하는 단계 도식화\n",
    "* step1: 필터링 조건을 []안에 기재\n",
    "* step2: false 값은 무시하고true값에 해당하는 인덱스값만 저장\n",
    "* step3: 저장된 인덱스 데이터 세트로 ndarray 조회"
   ]
  },
  {
   "cell_type": "markdown",
   "metadata": {},
   "source": [
    "## 행렬의 정렬-sort()와 argsort()\n",
    "### 행렬 정렬\n",
    "### np.sort(): 넘파이에서 sort()를 호출하는 방식, 원 행렬은 유지한 채 원 행렬의 정렬된 행렬을 반환\n",
    "### ndarray.sort(): 행렬 자체에서 sort()를 호출하는 방식, 원 행렬 자체를 정렬한 형태로 반환, 이 때 반환값은 None"
   ]
  },
  {
   "cell_type": "code",
   "execution_count": 19,
   "metadata": {},
   "outputs": [
    {
     "name": "stdout",
     "output_type": "stream",
     "text": [
      "원본 행렬: [3 1 9 5]\n",
      "np.sort() 호출 후 반환된 정렬 행렬: [1 3 5 9]\n",
      "np.sort() 호출 후 원본 행렬: [3 1 9 5]\n",
      "org_array.sort() 호출 후 반환된 행렬:  None\n",
      "org_array.sort() 호출 후 원본 행렬: [1 3 5 9]\n"
     ]
    }
   ],
   "source": [
    "org_array=np.array([3,1,9,5])\n",
    "print('원본 행렬:', org_array)\n",
    "#np.sort()로 정렬\n",
    "sort_array1=np.sort(org_array)\n",
    "print('np.sort() 호출 후 반환된 정렬 행렬:', sort_array1)\n",
    "print('np.sort() 호출 후 원본 행렬:', org_array)\n",
    "#ndarray.sort()로 정렬\n",
    "sort_array2=org_array.sort()\n",
    "print('org_array.sort() 호출 후 반환된 행렬: ', sort_array2)\n",
    "print('org_array.sort() 호출 후 원본 행렬:', org_array)"
   ]
  },
  {
   "cell_type": "code",
   "execution_count": 20,
   "metadata": {},
   "outputs": [
    {
     "name": "stdout",
     "output_type": "stream",
     "text": [
      "내림차순으로 정렬: [9 5 3 1]\n"
     ]
    }
   ],
   "source": [
    "#내림차순 정렬\n",
    "sort_array1_desc=np.sort(org_array)[::-1]\n",
    "print('내림차순으로 정렬:', sort_array1_desc)"
   ]
  },
  {
   "cell_type": "code",
   "execution_count": 21,
   "metadata": {},
   "outputs": [
    {
     "name": "stdout",
     "output_type": "stream",
     "text": [
      "로우 방향으로 정렬: \n",
      " [[ 7  1]\n",
      " [ 8 12]]\n",
      "컬럼 방향으로 정렬: \n",
      " [[ 8 12]\n",
      " [ 1  7]]\n"
     ]
    }
   ],
   "source": [
    "#행렬이 2차원 이상일 경우, axis축 값 설정을 통해 행방향, 또는 열방향으로 정렬 수행할 수 있음\n",
    "array2d=np.array([[8,12],\n",
    "                 [7,1]])\n",
    "\n",
    "sort_array2d_axis0=np.sort(array2d, axis=0)\n",
    "print('로우 방향으로 정렬: \\n', sort_array2d_axis0)\n",
    "\n",
    "sort_array2d_axis1=np.sort(array2d, axis=1)\n",
    "print('컬럼 방향으로 정렬: \\n', sort_array2d_axis1)\n"
   ]
  },
  {
   "cell_type": "markdown",
   "metadata": {},
   "source": [
    "### 정렬된 행렬의 인덱스를 반환하기\n",
    "### np.argsort(): 정렬 행렬의 원본 행렬 인덱스를 ndarray형으로 반환(p35 하단 그림 참조)"
   ]
  },
  {
   "cell_type": "code",
   "execution_count": 22,
   "metadata": {},
   "outputs": [
    {
     "name": "stdout",
     "output_type": "stream",
     "text": [
      "<class 'numpy.ndarray'>\n",
      "행렬 정렬 시 원본 행렬의 인덱스: [1 0 3 2]\n",
      "행렬 내림차순 정렬 시 원본 행렬의 인덱스: [2 3 0 1]\n"
     ]
    }
   ],
   "source": [
    "org_array=np.array([3,1,9,5])\n",
    "sort_indices=np.argsort(org_array)\n",
    "print(type(sort_indices))\n",
    "print('행렬 정렬 시 원본 행렬의 인덱스:', sort_indices)\n",
    "\n",
    "#내림차순으로 정렬\n",
    "sort_indices_desc=np.argsort(org_array)[::-1]\n",
    "print('행렬 내림차순 정렬 시 원본 행렬의 인덱스:', sort_indices_desc)"
   ]
  },
  {
   "cell_type": "markdown",
   "metadata": {},
   "source": [
    "## 선형대수 연산 - 행렬 내적과 전치 행렬 구하기\n",
    "### 행렬 내적(행렬 곱)\n",
    "### np.dot(): 두 행렬에서 왼쪽 행렬의 행과 오른쪽 행렬의 열의 원소들을 순차적으로 곱한 뒤 그 결과를 모두 더함"
   ]
  },
  {
   "cell_type": "code",
   "execution_count": 23,
   "metadata": {},
   "outputs": [
    {
     "name": "stdout",
     "output_type": "stream",
     "text": [
      "행렬 내적 결과: \n",
      " [[ 58  64]\n",
      " [139 154]]\n"
     ]
    }
   ],
   "source": [
    "A=np.array([[1,2,3],[4,5,6]])\n",
    "B=np.array([[7,8],[9,10],[11,12]])\n",
    "\n",
    "dot_product=np.dot(A,B)\n",
    "print('행렬 내적 결과: \\n', dot_product)"
   ]
  },
  {
   "cell_type": "markdown",
   "metadata": {},
   "source": [
    "### 전치 행렬\n",
    "### transpose()"
   ]
  },
  {
   "cell_type": "code",
   "execution_count": 24,
   "metadata": {},
   "outputs": [
    {
     "name": "stdout",
     "output_type": "stream",
     "text": [
      "A의 전치 행렬: \n",
      " [[1 3]\n",
      " [2 4]]\n"
     ]
    }
   ],
   "source": [
    "A=np.array([[1,2],[3,4]])\n",
    "transpose_mat=np.transpose(A)\n",
    "print('A의 전치 행렬: \\n', transpose_mat)"
   ]
  }
 ],
 "metadata": {
  "kernelspec": {
   "display_name": "Python 3",
   "language": "python",
   "name": "python3"
  },
  "language_info": {
   "codemirror_mode": {
    "name": "ipython",
    "version": 3
   },
   "file_extension": ".py",
   "mimetype": "text/x-python",
   "name": "python",
   "nbconvert_exporter": "python",
   "pygments_lexer": "ipython3",
   "version": "3.6.2"
  }
 },
 "nbformat": 4,
 "nbformat_minor": 2
}
